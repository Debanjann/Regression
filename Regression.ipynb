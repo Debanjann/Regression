{
 "cells": [
  {
   "cell_type": "markdown",
   "metadata": {},
   "source": [
    "For %increasing volume"
   ]
  },
  {
   "cell_type": "code",
   "execution_count": 81,
   "metadata": {},
   "outputs": [],
   "source": [
    "from pandas import DataFrame"
   ]
  },
  {
   "cell_type": "code",
   "execution_count": 82,
   "metadata": {},
   "outputs": [],
   "source": [
    "stock_market = {'Total posts change': [3.44,-0.46,-0.49,-0.01,-0.15],\n",
    "'Basic Positive': [88,139,92,112,120],\n",
    "'Basic Negative': [130,89,54,52,44],\n",
    "'closing price': [40.080002,40.049999,40.349998,40.43,40.630001],\n",
    "'closing price change': [-0.000996934,-0.000748578,0.007490612,0.001982701,0.004946846],               \n",
    "'volume':[1759600,1298100,1164900,1574700,2115800]                \n",
    "}"
   ]
  },
  {
   "cell_type": "code",
   "execution_count": 83,
   "metadata": {},
   "outputs": [],
   "source": [
    "df = DataFrame(stock_market,columns=['Total posts change','Basic Positive','Basic Negative','closing price','closing price change','volume'])"
   ]
  },
  {
   "cell_type": "code",
   "execution_count": 84,
   "metadata": {},
   "outputs": [
    {
     "data": {
      "text/html": [
       "<div>\n",
       "<style scoped>\n",
       "    .dataframe tbody tr th:only-of-type {\n",
       "        vertical-align: middle;\n",
       "    }\n",
       "\n",
       "    .dataframe tbody tr th {\n",
       "        vertical-align: top;\n",
       "    }\n",
       "\n",
       "    .dataframe thead th {\n",
       "        text-align: right;\n",
       "    }\n",
       "</style>\n",
       "<table border=\"1\" class=\"dataframe\">\n",
       "  <thead>\n",
       "    <tr style=\"text-align: right;\">\n",
       "      <th></th>\n",
       "      <th>Total posts change</th>\n",
       "      <th>Basic Positive</th>\n",
       "      <th>Basic Negative</th>\n",
       "      <th>closing price</th>\n",
       "      <th>closing price change</th>\n",
       "      <th>volume</th>\n",
       "    </tr>\n",
       "  </thead>\n",
       "  <tbody>\n",
       "    <tr>\n",
       "      <th>Total posts change</th>\n",
       "      <td>1.000000</td>\n",
       "      <td>-0.585995</td>\n",
       "      <td>0.835376</td>\n",
       "      <td>-0.449358</td>\n",
       "      <td>-0.545625</td>\n",
       "      <td>0.341473</td>\n",
       "    </tr>\n",
       "    <tr>\n",
       "      <th>Basic Positive</th>\n",
       "      <td>-0.585995</td>\n",
       "      <td>1.000000</td>\n",
       "      <td>-0.260010</td>\n",
       "      <td>0.011825</td>\n",
       "      <td>-0.272245</td>\n",
       "      <td>0.021817</td>\n",
       "    </tr>\n",
       "    <tr>\n",
       "      <th>Basic Negative</th>\n",
       "      <td>0.835376</td>\n",
       "      <td>-0.260010</td>\n",
       "      <td>1.000000</td>\n",
       "      <td>-0.850670</td>\n",
       "      <td>-0.771408</td>\n",
       "      <td>-0.033644</td>\n",
       "    </tr>\n",
       "    <tr>\n",
       "      <th>closing price</th>\n",
       "      <td>-0.449358</td>\n",
       "      <td>0.011825</td>\n",
       "      <td>-0.850670</td>\n",
       "      <td>1.000000</td>\n",
       "      <td>0.715926</td>\n",
       "      <td>0.504198</td>\n",
       "    </tr>\n",
       "    <tr>\n",
       "      <th>closing price change</th>\n",
       "      <td>-0.545625</td>\n",
       "      <td>-0.272245</td>\n",
       "      <td>-0.771408</td>\n",
       "      <td>0.715926</td>\n",
       "      <td>1.000000</td>\n",
       "      <td>-0.084787</td>\n",
       "    </tr>\n",
       "    <tr>\n",
       "      <th>volume</th>\n",
       "      <td>0.341473</td>\n",
       "      <td>0.021817</td>\n",
       "      <td>-0.033644</td>\n",
       "      <td>0.504198</td>\n",
       "      <td>-0.084787</td>\n",
       "      <td>1.000000</td>\n",
       "    </tr>\n",
       "  </tbody>\n",
       "</table>\n",
       "</div>"
      ],
      "text/plain": [
       "                      Total posts change  Basic Positive  Basic Negative  \\\n",
       "Total posts change              1.000000       -0.585995        0.835376   \n",
       "Basic Positive                 -0.585995        1.000000       -0.260010   \n",
       "Basic Negative                  0.835376       -0.260010        1.000000   \n",
       "closing price                  -0.449358        0.011825       -0.850670   \n",
       "closing price change           -0.545625       -0.272245       -0.771408   \n",
       "volume                          0.341473        0.021817       -0.033644   \n",
       "\n",
       "                      closing price  closing price change    volume  \n",
       "Total posts change        -0.449358             -0.545625  0.341473  \n",
       "Basic Positive             0.011825             -0.272245  0.021817  \n",
       "Basic Negative            -0.850670             -0.771408 -0.033644  \n",
       "closing price              1.000000              0.715926  0.504198  \n",
       "closing price change       0.715926              1.000000 -0.084787  \n",
       "volume                     0.504198             -0.084787  1.000000  "
      ]
     },
     "execution_count": 84,
     "metadata": {},
     "output_type": "execute_result"
    }
   ],
   "source": [
    "df.corr(method ='pearson')"
   ]
  },
  {
   "cell_type": "code",
   "execution_count": 85,
   "metadata": {},
   "outputs": [
    {
     "data": {
      "image/png": "[encoded data removed]",
      "text/plain": [
       "<Figure size 360x360 with 2 Axes>"
      ]
     },
     "metadata": {
      "needs_background": "light"
     },
     "output_type": "display_data"
    }
   ],
   "source": [
    "import matplotlib.pyplot as plt\n",
    "matplotlib.use('Agg')\n",
    "import pandas\n",
    "import numpy\n",
    "import seaborn as sns\n",
    "plt.figure(figsize=(5,5))\n",
    "sns_image=sns.heatmap(df.corr(),\n",
    "            vmin=-1,\n",
    "            cmap='coolwarm',\n",
    "            annot=True);\n",
    "fig = sns_image.get_figure()\n",
    "fig.savefig(\"output.png\")"
   ]
  },
  {
   "cell_type": "code",
   "execution_count": 86,
   "metadata": {},
   "outputs": [
    {
     "name": "stdout",
     "output_type": "stream",
     "text": [
      "   Total posts change  Basic Positive  Basic Negative  closing price  \\\n",
      "0                3.44              88             130      40.080002   \n",
      "1               -0.46             139              89      40.049999   \n",
      "2               -0.49              92              54      40.349998   \n",
      "3               -0.01             112              52      40.430000   \n",
      "4               -0.15             120              44      40.630001   \n",
      "\n",
      "   closing price change   volume  \n",
      "0             -0.000997  1759600  \n",
      "1             -0.000749  1298100  \n",
      "2              0.007491  1164900  \n",
      "3              0.001983  1574700  \n",
      "4              0.004947  2115800  \n"
     ]
    }
   ],
   "source": [
    "print(df)"
   ]
  },
  {
   "cell_type": "code",
   "execution_count": 87,
   "metadata": {},
   "outputs": [
    {
     "data": {
      "image/png": "[encoded data removed]",
      "text/plain": [
       "<Figure size 432x288 with 1 Axes>"
      ]
     },
     "metadata": {
      "needs_background": "light"
     },
     "output_type": "display_data"
    }
   ],
   "source": [
    "%matplotlib inline\n",
    "import matplotlib\n",
    "import matplotlib.pyplot as plt\n",
    "plt.scatter(df['Total posts change'], df['closing price'], color='red')\n",
    "plt.title('total posts change vs closing price ', fontsize=14)\n",
    "plt.xlabel('total posts change', fontsize=14)\n",
    "plt.ylabel('closing price', fontsize=14)\n",
    "plt.grid(True)\n",
    "plt.show()"
   ]
  },
  {
   "cell_type": "code",
   "execution_count": 88,
   "metadata": {},
   "outputs": [
    {
     "data": {
      "image/png": "[encoded data removed]",
      "text/plain": [
       "<Figure size 432x288 with 1 Axes>"
      ]
     },
     "metadata": {
      "needs_background": "light"
     },
     "output_type": "display_data"
    }
   ],
   "source": [
    "%matplotlib inline\n",
    "import matplotlib\n",
    "import matplotlib.pyplot as plt\n",
    "plt.scatter(df['Basic Positive'], df['closing price'], color='red')\n",
    "plt.title('Basic Positive vs closing price ', fontsize=14)\n",
    "plt.xlabel('Basic Positive', fontsize=14)\n",
    "plt.ylabel('closing price', fontsize=14)\n",
    "plt.grid(True)\n",
    "plt.show()"
   ]
  },
  {
   "cell_type": "code",
   "execution_count": 89,
   "metadata": {},
   "outputs": [
    {
     "data": {
      "image/png": "[encoded data removed]",
      "text/plain": [
       "<Figure size 432x288 with 1 Axes>"
      ]
     },
     "metadata": {
      "needs_background": "light"
     },
     "output_type": "display_data"
    }
   ],
   "source": [
    "import matplotlib\n",
    "from matplotlib import pyplot as plt\n",
    "plt.scatter(df['Basic Negative'], df['closing price'], color='green')\n",
    "plt.title('Basic Negative vs closing price', fontsize=14)\n",
    "plt.xlabel('Basic Negative', fontsize=14)\n",
    "plt.ylabel('closing price', fontsize=14)\n",
    "plt.grid(True)\n",
    "plt.show()"
   ]
  },
  {
   "cell_type": "code",
   "execution_count": 90,
   "metadata": {},
   "outputs": [],
   "source": [
    "X = df[['Basic Negative','Total posts change']] \n",
    "Y = df['closing price']"
   ]
  },
  {
   "cell_type": "code",
   "execution_count": 91,
   "metadata": {},
   "outputs": [],
   "source": [
    "from pandas import DataFrame\n",
    "from sklearn import linear_model\n",
    "import statsmodels.api as sm"
   ]
  },
  {
   "cell_type": "code",
   "execution_count": 92,
   "metadata": {},
   "outputs": [
    {
     "data": {
      "text/plain": [
       "LinearRegression(copy_X=True, fit_intercept=True, n_jobs=None,\n",
       "         normalize=False)"
      ]
     },
     "execution_count": 92,
     "metadata": {},
     "output_type": "execute_result"
    }
   ],
   "source": [
    "regr = linear_model.LinearRegression()\n",
    "regr.fit(X, Y)"
   ]
  },
  {
   "cell_type": "code",
   "execution_count": 93,
   "metadata": {},
   "outputs": [
    {
     "name": "stdout",
     "output_type": "stream",
     "text": [
      "Intercept: \n",
      " 41.04025120790055\n",
      "Coefficients: \n",
      " [-0.01071873  0.1261612 ]\n"
     ]
    }
   ],
   "source": [
    "print('Intercept: \\n', regr.intercept_)\n",
    "print('Coefficients: \\n', regr.coef_)"
   ]
  },
  {
   "cell_type": "code",
   "execution_count": 94,
   "metadata": {},
   "outputs": [
    {
     "name": "stdout",
     "output_type": "stream",
     "text": [
      "Predicted closing price: \n",
      " [37.86248035]\n"
     ]
    }
   ],
   "source": [
    "New_Basic_Negative = 300\n",
    "New_Total_posts_change = 0.3\n",
    "print ('Predicted closing price: \\n', regr.predict([[New_Basic_Negative ,New_Total_posts_change]]))"
   ]
  },
  {
   "cell_type": "code",
   "execution_count": 95,
   "metadata": {},
   "outputs": [
    {
     "name": "stderr",
     "output_type": "stream",
     "text": [
      "C:\\Users\\Kartik.sharma5\\AppData\\Local\\Continuum\\anaconda3\\lib\\site-packages\\numpy\\core\\fromnumeric.py:2389: FutureWarning: Method .ptp is deprecated and will be removed in a future version. Use numpy.ptp instead.\n",
      "  return ptp(axis=axis, out=out, **kwargs)\n"
     ]
    }
   ],
   "source": [
    "X = sm.add_constant(X)"
   ]
  },
  {
   "cell_type": "code",
   "execution_count": 96,
   "metadata": {},
   "outputs": [],
   "source": [
    "model = sm.OLS(Y, X).fit()\n",
    "predictions = model.predict(X) "
   ]
  },
  {
   "cell_type": "code",
   "execution_count": 97,
   "metadata": {},
   "outputs": [
    {
     "name": "stdout",
     "output_type": "stream",
     "text": [
      "                            OLS Regression Results                            \n",
      "==============================================================================\n",
      "Dep. Variable:          closing price   R-squared:                       0.950\n",
      "Model:                            OLS   Adj. R-squared:                  0.899\n",
      "Method:                 Least Squares   F-statistic:                     18.83\n",
      "Date:                Tue, 11 Jun 2019   Prob (F-statistic):             0.0504\n",
      "Time:                        19:08:40   Log-Likelihood:                 7.9760\n",
      "No. Observations:                   5   AIC:                            -9.952\n",
      "Df Residuals:                       2   BIC:                            -11.12\n",
      "Df Model:                           2                                         \n",
      "Covariance Type:            nonrobust                                         \n",
      "======================================================================================\n",
      "                         coef    std err          t      P>|t|      [0.025      0.975]\n",
      "--------------------------------------------------------------------------------------\n",
      "const                 41.0403      0.134    306.498      0.000      40.464      41.616\n",
      "Basic Negative        -0.0107      0.002     -5.445      0.032      -0.019      -0.002\n",
      "Total posts change     0.1262      0.042      2.993      0.096      -0.055       0.308\n",
      "==============================================================================\n",
      "Omnibus:                          nan   Durbin-Watson:                   1.910\n",
      "Prob(Omnibus):                    nan   Jarque-Bera (JB):                0.427\n",
      "Skew:                           0.454   Prob(JB):                        0.808\n",
      "Kurtosis:                       1.893   Cond. No.                         320.\n",
      "==============================================================================\n",
      "\n",
      "Warnings:\n",
      "[1] Standard Errors assume that the covariance matrix of the errors is correctly specified.\n"
     ]
    },
    {
     "name": "stderr",
     "output_type": "stream",
     "text": [
      "C:\\Users\\Kartik.sharma5\\AppData\\Local\\Continuum\\anaconda3\\lib\\site-packages\\statsmodels\\stats\\stattools.py:72: ValueWarning: omni_normtest is not valid with less than 8 observations; 5 samples were given.\n",
      "  \"samples were given.\" % int(n), ValueWarning)\n"
     ]
    }
   ],
   "source": [
    "print_model = model.summary()\n",
    "print(print_model)"
   ]
  },
  {
   "cell_type": "code",
   "execution_count": null,
   "metadata": {},
   "outputs": [],
   "source": [
    "import tkinter as tk \n",
    "from matplotlib.backends.backend_tkagg import FigureCanvasTkAgg\n",
    "# tkinter GUI\n",
    "root= tk.Tk() \n",
    " \n",
    "canvas1 = tk.Canvas(root, width = 1200, height = 450)\n",
    "canvas1.pack()\n",
    "\n",
    "# with sklearn\n",
    "Intercept_result = ('Intercept: ', regr.intercept_)\n",
    "label_Intercept = tk.Label(root, text=Intercept_result, justify = 'center')\n",
    "canvas1.create_window(260, 220, window=label_Intercept)\n",
    "\n",
    "# with sklearn\n",
    "Coefficients_result  = ('Coefficients: ', regr.coef_)\n",
    "label_Coefficients = tk.Label(root, text=Coefficients_result, justify = 'center')\n",
    "canvas1.create_window(260, 240, window=label_Coefficients)\n",
    "\n",
    "# with statsmodels\n",
    "image = tk.PhotoImage(file=\"output.png\")\n",
    "label_model = tk.Label(image=image)\n",
    "label_model.pack()\n",
    "canvas1.create_window(800, 220, window=label_model)\n",
    "\n",
    "\n",
    "# New_Interest_Rate label and input box\n",
    "label1 = tk.Label(root, text='Type Basic negative ')\n",
    "canvas1.create_window(100, 100, window=label1)\n",
    "\n",
    "entry1 = tk.Entry (root) # create 1st entry box\n",
    "canvas1.create_window(270, 100, window=entry1)\n",
    "\n",
    "# New_Unemployment_Rate label and input box\n",
    "label2 = tk.Label(root, text=' Type total posts change ')\n",
    "canvas1.create_window(120, 120, window=label2)\n",
    "\n",
    "entry2 = tk.Entry (root) # create 2nd entry box\n",
    "canvas1.create_window(270, 120, window=entry2)\n",
    "\n",
    "\n",
    "def values(): \n",
    "    global New_Basic_negative #our 1st input variable\n",
    "    New_Basic_negative = float(entry1.get()) \n",
    "    \n",
    "    global New_total_posts_change #our 2nd input variable\n",
    "    New_total_posts_change = float(entry2.get()) \n",
    "    \n",
    "    Prediction_result  = ('Predicted closing Price: ', regr.predict([[New_Basic_negative ,New_total_posts_change]]))\n",
    "    label_Prediction = tk.Label(root, text= Prediction_result, bg='orange')\n",
    "    canvas1.create_window(260, 280, window=label_Prediction)\n",
    "    \n",
    "button1 = tk.Button (root, text='Predict closing Price',command=values, bg='orange') # button to call the 'values' command above \n",
    "canvas1.create_window(270, 150, window=button1)\n",
    " \n",
    "\n",
    "root.mainloop()"
   ]
  },
  {
   "cell_type": "code",
   "execution_count": null,
   "metadata": {},
   "outputs": [],
   "source": []
  }
 ],
 "metadata": {
  "kernelspec": {
   "display_name": "Python 3",
   "language": "python",
   "name": "python3"
  },
  "language_info": {
   "codemirror_mode": {
    "name": "ipython",
    "version": 3
   },
   "file_extension": ".py",
   "mimetype": "text/x-python",
   "name": "python",
   "nbconvert_exporter": "python",
   "pygments_lexer": "ipython3",
   "version": "3.7.3"
  }
 },
 "nbformat": 4,
 "nbformat_minor": 2
}
